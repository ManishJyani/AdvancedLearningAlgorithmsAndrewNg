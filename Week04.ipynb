{
 "cells": [
  {
   "cell_type": "code",
   "execution_count": null,
   "id": "1c9ce1ab",
   "metadata": {},
   "outputs": [],
   "source": []
  },
  {
   "cell_type": "markdown",
   "id": "07ea3d32",
   "metadata": {},
   "source": [
    "# C2_W4_Lab_01_Decision_Trees"
   ]
  },
  {
   "cell_type": "code",
   "execution_count": 1,
   "id": "cb0472a2",
   "metadata": {},
   "outputs": [],
   "source": [
    "import numpy as np \n",
    "import matplotlib.pyplot as plt\n",
    "import  pandas as pd"
   ]
  },
  {
   "cell_type": "markdown",
   "id": "1d9ab2ba",
   "metadata": {},
   "source": [
    "|                                                     |   Ear Shape | Face Shape | Whiskers |   Cat  |\n",
    "|:---------------------------------------------------:|:---------:|:-----------:|:---------:|:------:|\n",
    "| <img src=\"images/0.png\" alt=\"drawing\" width=\"50\"/> |   Pointy   |   Round     |  Present  |    1   |\n",
    "| <img src=\"images/1.png\" alt=\"drawing\" width=\"50\"/> |   Floppy   |  Not Round  |  Present  |    1   |\n",
    "| <img src=\"images/2.png\" alt=\"drawing\" width=\"50\"/> |   Floppy   |  Round      |  Absent   |    0   |\n",
    "| <img src=\"images/3.png\" alt=\"drawing\" width=\"50\"/> |   Pointy   |  Not Round  |  Present  |    0   |\n",
    "| <img src=\"images/4.png\" alt=\"drawing\" width=\"50\"/> |   Pointy   |   Round     |  Present  |    1   |\n",
    "| <img src=\"images/5.png\" alt=\"drawing\" width=\"50\"/> |   Pointy   |   Round     |  Absent   |    1   |\n",
    "| <img src=\"images/6.png\" alt=\"drawing\" width=\"50\"/> |   Floppy   |  Not Round  |  Absent   |    0   |\n",
    "| <img src=\"images/7.png\" alt=\"drawing\" width=\"50\"/> |   Pointy   |  Round      |  Absent   |    1   |\n",
    "| <img src=\"images/8.png\" alt=\"drawing\" width=\"50\"/> |    Floppy  |   Round     |  Absent   |    0   |\n",
    "| <img src=\"images/9.png\" alt=\"drawing\" width=\"50\"/> |   Floppy   |  Round      |  Absent   |    0   |\n",
    "\n",
    "\n",
    "We will use **one-hot encoding** to encode the categorical features. They will be as follows:\n",
    "\n",
    "- Ear Shape: Pointy = 1, Floppy = 0\n",
    "- Face Shape: Round = 1, Not Round = 0\n",
    "- Whiskers: Present = 1, Absent = 0\n",
    "\n",
    "Therefore, we have two sets:\n",
    "\n",
    "- `X_train`: for each example, contains 3 features:\n",
    "            - Ear Shape (1 if pointy, 0 otherwise)\n",
    "            - Face Shape (1 if round, 0 otherwise)\n",
    "            - Whiskers (1 if present, 0 otherwise)\n",
    "            \n",
    "- `y_train`: whether the animal is a cat\n",
    "            - 1 if the animal is a cat\n",
    "            - 0 otherwise"
   ]
  },
  {
   "cell_type": "code",
   "execution_count": 3,
   "id": "de4f4e2a",
   "metadata": {},
   "outputs": [],
   "source": [
    "X_train = np.array([[1, 1, 1],\n",
    "[0, 0, 1],\n",
    " [0, 1, 0],\n",
    " [1, 0, 1],\n",
    " [1, 1, 1],\n",
    " [1, 1, 0],\n",
    " [0, 0, 0],\n",
    " [1, 1, 0],\n",
    " [0, 1, 0],\n",
    " [0, 1, 0]])\n",
    "\n",
    "y_train = np.array([1, 1, 0, 0, 1, 1, 0, 1, 0, 0])"
   ]
  },
  {
   "cell_type": "code",
   "execution_count": 6,
   "id": "dae81d5c",
   "metadata": {},
   "outputs": [],
   "source": [
    "# calculate entropy\n",
    "def entropy(p):\n",
    "    if p==0 or p==1:\n",
    "        return 0\n",
    "    else:\n",
    "        h= -p*np.log2(p)- (1-p)*np.log2(1-p)\n",
    "    \n",
    "    return h"
   ]
  },
  {
   "cell_type": "code",
   "execution_count": 7,
   "id": "3e880306",
   "metadata": {},
   "outputs": [
    {
     "name": "stdout",
     "output_type": "stream",
     "text": [
      "1.0\n"
     ]
    }
   ],
   "source": [
    "print(entropy(0.5))"
   ]
  },
  {
   "cell_type": "code",
   "execution_count": 8,
   "id": "3ce5009e",
   "metadata": {},
   "outputs": [],
   "source": [
    "# split the observation based on some feature\n",
    "def split_data(X,index_feature):\n",
    "    \"\"\"\n",
    "    index 0 feature  => ear\n",
    "    index 1 feature => face\n",
    "    index 2 feature => whiskers\n",
    "\n",
    "    if that feature is there , go to left bucket otherwise right bucket\n",
    "    \"\"\"\n",
    "    m,n = X.shape\n",
    "    left=[]\n",
    "    right=[]\n",
    "    for i in range(m):\n",
    "        if X[i,index_feature]==1:\n",
    "            left.append(i)\n",
    "        else:\n",
    "            right.append(i)\n",
    "\n",
    "    return left,right\n"
   ]
  },
  {
   "cell_type": "code",
   "execution_count": 11,
   "id": "dafa53a7",
   "metadata": {},
   "outputs": [],
   "source": [
    "left,right=split_data(X_train,0)"
   ]
  },
  {
   "cell_type": "code",
   "execution_count": 20,
   "id": "556969f0",
   "metadata": {},
   "outputs": [],
   "source": [
    "# calculate the weighted entropy\n",
    "def weighted_entropy(X,y,left_indices,right_indices):\n",
    "    m,n= X.shape\n",
    "    w_left= len(left_indices)/m\n",
    "    w_right= len(right_indices)/m\n",
    "    p_left= np.sum(y[left_indices])/len(left_indices)\n",
    "    p_right= np.sum(y[right_indices])/len(right_indices)\n",
    "\n",
    "    return w_left*entropy(p_left) + w_right*entropy(p_right)"
   ]
  },
  {
   "cell_type": "code",
   "execution_count": 21,
   "id": "d99c2771",
   "metadata": {},
   "outputs": [
    {
     "data": {
      "text/plain": [
       "0.7219280948873623"
      ]
     },
     "execution_count": 21,
     "metadata": {},
     "output_type": "execute_result"
    }
   ],
   "source": [
    "weighted_entropy(X_train,y_train,left,right)"
   ]
  },
  {
   "cell_type": "code",
   "execution_count": 22,
   "id": "e8511da2",
   "metadata": {},
   "outputs": [],
   "source": [
    "def information_gain(X, y, left_indices, right_indices):\n",
    "    p_root= np.sum(y)/len(y)\n",
    "    H_root= entropy(p_root)\n",
    "\n",
    "    return H_root - weighted_entropy(X,y,left_indices,right_indices)"
   ]
  },
  {
   "cell_type": "code",
   "execution_count": 24,
   "id": "3ef33a8d",
   "metadata": {},
   "outputs": [
    {
     "data": {
      "text/plain": [
       "0.2780719051126377"
      ]
     },
     "execution_count": 24,
     "metadata": {},
     "output_type": "execute_result"
    }
   ],
   "source": [
    "information_gain(X_train, y_train, left, right)"
   ]
  },
  {
   "cell_type": "code",
   "execution_count": 25,
   "id": "6954931a",
   "metadata": {},
   "outputs": [
    {
     "name": "stdout",
     "output_type": "stream",
     "text": [
      "Feature: Ear Shape, information gain if we split the root node using this feature: 0.28\n",
      "Feature: Face Shape, information gain if we split the root node using this feature: 0.03\n",
      "Feature: Whiskers, information gain if we split the root node using this feature: 0.12\n"
     ]
    }
   ],
   "source": [
    "for i, feature_name in enumerate(['Ear Shape', 'Face Shape', 'Whiskers']):\n",
    "    left_indices, right_indices = split_data(X_train, i)\n",
    "    i_gain = information_gain(X_train, y_train, left_indices, right_indices)\n",
    "    print(f\"Feature: {feature_name}, information gain if we split the root node using this feature: {i_gain:.2f}\")"
   ]
  },
  {
   "cell_type": "code",
   "execution_count": 26,
   "id": "10b08579",
   "metadata": {},
   "outputs": [],
   "source": [
    "# we should split on the ear basis , highest information gain"
   ]
  },
  {
   "cell_type": "markdown",
   "id": "055e4b9d",
   "metadata": {},
   "source": [
    "The process is **recursive**, which means we must perform these calculations for each node until we meet a stopping criteria:\n",
    "\n",
    "- If the tree depth after splitting exceeds a threshold\n",
    "- If the resulting node has only 1 class\n",
    "- If the information gain of splitting is below a threshold"
   ]
  },
  {
   "cell_type": "code",
   "execution_count": null,
   "id": "deb206fe",
   "metadata": {},
   "outputs": [],
   "source": []
  }
 ],
 "metadata": {
  "kernelspec": {
   "display_name": "Python 3",
   "language": "python",
   "name": "python3"
  },
  "language_info": {
   "codemirror_mode": {
    "name": "ipython",
    "version": 3
   },
   "file_extension": ".py",
   "mimetype": "text/x-python",
   "name": "python",
   "nbconvert_exporter": "python",
   "pygments_lexer": "ipython3",
   "version": "3.10.12"
  }
 },
 "nbformat": 4,
 "nbformat_minor": 5
}
